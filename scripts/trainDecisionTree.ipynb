{
 "cells": [
  {
   "cell_type": "code",
   "execution_count": 1,
   "metadata": {},
   "outputs": [],
   "source": [
    "#######################################################\n",
    "# Script:\n",
    "#    trainDecisionTree.py\n",
    "# Usage:\n",
    "#    python trainDecisionTree.py\n",
    "# Description:\n",
    "#    Build the prediction model based on training data\n",
    "# Authors:\n",
    "#    Jackie Chu,   cchu@salesforce.com\n",
    "#    Jasmin Nakic, jnakic@salesforce.com\n",
    "#######################################################\n",
    "\n",
    "import numpy as np\n",
    "from sklearn import tree\n",
    "from sklearn.externals import joblib\n",
    "import graphviz"
   ]
  },
  {
   "cell_type": "code",
   "execution_count": 2,
   "metadata": {},
   "outputs": [],
   "source": [
    "# Enable or disable debug printing\n",
    "debugFlag = False\n",
    "\n",
    "# Feature list\n",
    "perfCols = [\"PageTime_ms\",\"TotalServerTime_ms\",\"TotalBrowserTime_ms\",\"Action_count\",\"Api_count\",\"Db_count\",\"DbTime_ms\",\"Xhr_count\"]\n",
    "\n",
    "# GraphViz metadata\n",
    "graphCols = (\"dummy\",\"PageTime_ms\",\"TotalServerTime_ms\",\"TotalBrowserTime_ms\",\"Action_count\",\"Api_count\",\"Db_count\",\"DbTime_ms\",\"Xhr_count\")\n",
    "targetVals = (\"Error\",\"Invalid\",\"Regression\",\"Success\")\n",
    "\n",
    "# Model options\n",
    "maxDepth = 3"
   ]
  },
  {
   "cell_type": "code",
   "execution_count": 3,
   "metadata": {},
   "outputs": [],
   "source": [
    "# Add a set of columns to the destination\n",
    "def addColumns(dest, src, colNames):\n",
    "    # Initialize temporary array\n",
    "    tmpArr = np.empty(src.shape[0])\n",
    "    cols = 0\n",
    "    # Copy column content\n",
    "    for name in colNames:\n",
    "        if cols == 0: # first column\n",
    "            tmpArr = np.copy(src[name])\n",
    "            tmpArr = np.reshape(tmpArr,(-1,1))\n",
    "        else:\n",
    "            tmpCol = np.copy(src[name])\n",
    "            tmpCol = np.reshape(tmpCol,(-1,1))\n",
    "            tmpArr = np.append(tmpArr,tmpCol,1)\n",
    "        cols = cols + 1\n",
    "    return np.append(dest,tmpArr,1)\n",
    "#end addColumns"
   ]
  },
  {
   "cell_type": "code",
   "execution_count": 4,
   "metadata": {},
   "outputs": [],
   "source": [
    "# Generate Decision Tree model\n",
    "def genModel(data,colList,modelName):\n",
    "    # Prepare the data for the model\n",
    "    X = np.zeros(data.shape[0])\n",
    "    X = np.reshape(X,(-1,1))\n",
    "    X = addColumns(X,data,colList)\n",
    "    if debugFlag:\n",
    "        print(\"X 0: \", X[0:5])\n",
    "    Y = np.copy(data[\"Status\"])\n",
    "    if debugFlag:\n",
    "        print(\"Y 0: \", Y[0:5])\n",
    "\n",
    "    # Build the model based on training data\n",
    "    model = tree.DecisionTreeClassifier()\n",
    "    if maxDepth > 0 :\n",
    "        model.set_params(max_depth=maxDepth)\n",
    "    print(model.fit(X, Y))\n",
    "\n",
    "    print(\"NAMES: \", data.dtype.names)\n",
    "    print(\"TREE: \", model.tree_)\n",
    "    print(\"MAX_DEPTH: \", model.tree_.max_depth)\n",
    "    print(\"NODE_COUNT: \", model.tree_.node_count)\n",
    "    print(\"CHILDREN_LEFT: \", model.tree_.children_left)\n",
    "    print(\"CHILDREN_RIGHT: \", model.tree_.children_left)\n",
    "    print(\"FEATURE: \", model.tree_.feature)\n",
    "    print(\"THRESHOLD: \", model.tree_.threshold)\n",
    "    print(\"FEATURE_IMPORTANCES: \", model.feature_importances_)\n",
    "    print(\"SCORE values: \", model.score(X,Y))\n",
    "\n",
    "    P = model.predict(X)\n",
    "    if debugFlag:\n",
    "        print(\"P 0-5: \", P[0:5])\n",
    "\n",
    "    # Visualize the decision tree model\n",
    "    dot_data = tree.export_graphviz(model, out_file=None, \n",
    "                         feature_names=graphCols,\n",
    "                         class_names=targetVals,\n",
    "                         filled=True, rounded=True,  \n",
    "                         special_characters=True) \n",
    "    graph = graphviz.Source(dot_data) \n",
    "    graph.render(modelName)\n",
    "    \n",
    "    # Directly display the graph\n",
    "    graphviz.Source(dot_data).view()\n",
    "\n",
    "    # Write the model to the file\n",
    "    modelFileName = modelName+\".model\"\n",
    "    joblib.dump(model,modelFileName)\n",
    "    return P\n",
    "#end genModel"
   ]
  },
  {
   "cell_type": "code",
   "execution_count": 5,
   "metadata": {},
   "outputs": [],
   "source": [
    "# Write training results to a file\n",
    "def writeResult(output,data,p):\n",
    "    result = np.array(\n",
    "       np.empty(data.shape[0]),\n",
    "       dtype=[\n",
    "           (\"PageTime_ms\",int),\n",
    "           (\"TotalServerTime_ms\",int),\n",
    "           (\"TotalBrowserTime_ms\",int),\n",
    "           (\"Action_count\",int),\n",
    "           (\"Api_count\",int),\n",
    "           (\"Db_count\",int),\n",
    "           (\"DbTime_ms\",int),\n",
    "           (\"Xhr_count\",int),\n",
    "           (\"Status\",\"|U20\"),\n",
    "           (\"PREDICTION\",\"|U20\")\n",
    "        ]\n",
    "    )\n",
    "    result[\"PageTime_ms\"]     = data[\"PageTime_ms\"]\n",
    "    result[\"TotalServerTime_ms\"]     = data[\"TotalServerTime_ms\"]\n",
    "    result[\"TotalBrowserTime_ms\"]     = data[\"TotalBrowserTime_ms\"]\n",
    "    result[\"Action_count\"]     = data[\"Action_count\"]\n",
    "    result[\"Api_count\"]    = data[\"Api_count\"]\n",
    "    result[\"Db_count\"]    = data[\"Db_count\"]\n",
    "    result[\"DbTime_ms\"]    = data[\"DbTime_ms\"]\n",
    "    result[\"Xhr_count\"]    = data[\"Xhr_count\"]\n",
    "    result[\"Status\"] = data[\"Status\"]\n",
    "    result[\"PREDICTION\"] = p\n",
    "    if debugFlag:\n",
    "        print(\"R 0-5: \", result[0:5])\n",
    "    hdr = \"PageTime_ms,TotalServerTime_ms,TotalBrowserTime_ms,Action_count,Api_count,Db_count,DbTime_ms,Xhr_count,Status,PREDICTION\"\n",
    "    np.savetxt(output,result,fmt=\"%s\",delimiter=\",\",header=hdr,comments=\"\")\n",
    "#end writeResult"
   ]
  },
  {
   "cell_type": "code",
   "execution_count": 6,
   "metadata": {},
   "outputs": [
    {
     "name": "stdout",
     "output_type": "stream",
     "text": [
      "DecisionTreeClassifier(class_weight=None, criterion='gini', max_depth=3,\n",
      "            max_features=None, max_leaf_nodes=None,\n",
      "            min_impurity_decrease=0.0, min_impurity_split=None,\n",
      "            min_samples_leaf=1, min_samples_split=2,\n",
      "            min_weight_fraction_leaf=0.0, presort=False, random_state=None,\n",
      "            splitter='best')\n",
      "NAMES:  ('Status', 'PageTime_ms', 'TotalServerTime_ms', 'TotalBrowserTime_ms', 'Action_count', 'Api_count', 'Db_count', 'DbTime_ms', 'Xhr_count')\n",
      "TREE:  <sklearn.tree._tree.Tree object at 0x10967a7e8>\n",
      "MAX_DEPTH:  3\n",
      "NODE_COUNT:  15\n",
      "CHILDREN_LEFT:  [ 1  2  3 -1 -1  6 -1 -1  9 10 -1 -1 13 -1 -1]\n",
      "CHILDREN_RIGHT:  [ 1  2  3 -1 -1  6 -1 -1  9 10 -1 -1 13 -1 -1]\n",
      "FEATURE:  [ 1  4  1 -2 -2  2 -2 -2  7  3 -2 -2  1 -2 -2]\n",
      "THRESHOLD:  [ 2.4995e+03  1.2500e+01  2.0075e+03 -2.0000e+00 -2.0000e+00  2.6170e+03\n",
      " -2.0000e+00 -2.0000e+00  3.7750e+02  1.6930e+03 -2.0000e+00 -2.0000e+00\n",
      "  2.7245e+03 -2.0000e+00 -2.0000e+00]\n",
      "FEATURE_IMPORTANCES:  [0.         0.72375955 0.04188352 0.02261828 0.16308309 0.\n",
      " 0.         0.04865556 0.        ]\n",
      "SCORE values:  0.6976024748646559\n"
     ]
    }
   ],
   "source": [
    "# Start\n",
    "inputFileName = \"PerfRun_TrainingData.csv\"\n",
    "outputFileName = \"PerfRun_TrainingResult.txt\"\n",
    "modelName = \"PerfRun\"\n",
    "\n",
    "# All input columns - data types are strings, float and int\n",
    "trainData = np.genfromtxt(\n",
    "    inputFileName,\n",
    "    delimiter=',',\n",
    "    names=True,\n",
    "    dtype=(\"|U20\",int,int,int,int,int,int,int,int)\n",
    ")\n",
    "if debugFlag:\n",
    "    print(\"trainData 0: \", trainData[0:5])"
   ]
  },
  {
   "cell_type": "code",
   "execution_count": 7,
   "metadata": {},
   "outputs": [
    {
     "name": "stdout",
     "output_type": "stream",
     "text": [
      "DecisionTreeClassifier(class_weight=None, criterion='gini', max_depth=3,\n",
      "            max_features=None, max_leaf_nodes=None,\n",
      "            min_impurity_decrease=0.0, min_impurity_split=None,\n",
      "            min_samples_leaf=1, min_samples_split=2,\n",
      "            min_weight_fraction_leaf=0.0, presort=False, random_state=None,\n",
      "            splitter='best')\n",
      "NAMES:  ('Status', 'PageTime_ms', 'TotalServerTime_ms', 'TotalBrowserTime_ms', 'Action_count', 'Api_count', 'Db_count', 'DbTime_ms', 'Xhr_count')\n",
      "TREE:  <sklearn.tree._tree.Tree object at 0x10967a988>\n",
      "MAX_DEPTH:  3\n",
      "NODE_COUNT:  15\n",
      "CHILDREN_LEFT:  [ 1  2  3 -1 -1  6 -1 -1  9 10 -1 -1 13 -1 -1]\n",
      "CHILDREN_RIGHT:  [ 1  2  3 -1 -1  6 -1 -1  9 10 -1 -1 13 -1 -1]\n",
      "FEATURE:  [ 1  4  1 -2 -2  2 -2 -2  7  3 -2 -2  1 -2 -2]\n",
      "THRESHOLD:  [ 2.4995e+03  1.2500e+01  2.0075e+03 -2.0000e+00 -2.0000e+00  2.6170e+03\n",
      " -2.0000e+00 -2.0000e+00  3.7750e+02  1.6930e+03 -2.0000e+00 -2.0000e+00\n",
      "  2.7245e+03 -2.0000e+00 -2.0000e+00]\n",
      "FEATURE_IMPORTANCES:  [0.         0.72375955 0.04188352 0.02261828 0.16308309 0.\n",
      " 0.         0.04865556 0.        ]\n",
      "SCORE values:  0.6976024748646559\n"
     ]
    }
   ],
   "source": [
    "# Generate Decision Tree Model\n",
    "P = genModel(trainData,perfCols,modelName)"
   ]
  },
  {
   "cell_type": "code",
   "execution_count": 9,
   "metadata": {},
   "outputs": [],
   "source": [
    "# Write result to file PerfRun_TrainingResult.txt\n",
    "writeResult(outputFileName,trainData,P)"
   ]
  },
  {
   "cell_type": "code",
   "execution_count": null,
   "metadata": {},
   "outputs": [],
   "source": []
  }
 ],
 "metadata": {
  "kernelspec": {
   "display_name": "Python 3",
   "language": "python",
   "name": "python3"
  },
  "language_info": {
   "codemirror_mode": {
    "name": "ipython",
    "version": 3
   },
   "file_extension": ".py",
   "mimetype": "text/x-python",
   "name": "python",
   "nbconvert_exporter": "python",
   "pygments_lexer": "ipython3",
   "version": "3.6.5"
  }
 },
 "nbformat": 4,
 "nbformat_minor": 2
}
