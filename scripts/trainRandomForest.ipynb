{
 "cells": [
  {
   "cell_type": "code",
   "execution_count": null,
   "metadata": {
    "collapsed": true
   },
   "outputs": [],
   "source": [
    "#######################################################\n",
    "# Script:\n",
    "#    trainRandomForest.py\n",
    "# Usage:\n",
    "#    python trainRandomForest.py\n",
    "# Description:\n",
    "#    Build the prediction model based on training data\n",
    "# Authors:\n",
    "#    Jackie Chu,   cchu@salesforce.com\n",
    "#    Jasmin Nakic, jnakic@salesforce.com\n",
    "#######################################################\n",
    "\n",
    "import numpy as np\n",
    "from sklearn import tree\n",
    "from sklearn import ensemble\n",
    "from sklearn.externals import joblib"
   ]
  },
  {
   "cell_type": "code",
   "execution_count": null,
   "metadata": {
    "collapsed": true
   },
   "outputs": [],
   "source": [
    "# Enable or disable debug printing\n",
    "debugFlag = False\n",
    "\n",
    "# Feature list\n",
    "perfCols = [\"PageTime_ms\",\"TotalServerTime_ms\",\"TotalBrowserTime_ms\",\"Action_count\",\"Api_count\",\"Db_count\",\"DbTime_ms\",\"Xhr_count\"]\n",
    "\n",
    "# Model options\n",
    "maxDepth = 0\n",
    "numEstimators = 15"
   ]
  },
  {
   "cell_type": "code",
   "execution_count": null,
   "metadata": {
    "collapsed": true
   },
   "outputs": [],
   "source": [
    "# Add a set of columns to the destination\n",
    "def addColumns(dest, src, colNames):\n",
    "    # Initialize temporary array\n",
    "    tmpArr = np.empty(src.shape[0])\n",
    "    cols = 0\n",
    "    # Copy column content\n",
    "    for name in colNames:\n",
    "        if cols == 0: # first column\n",
    "            tmpArr = np.copy(src[name])\n",
    "            tmpArr = np.reshape(tmpArr,(-1,1))\n",
    "        else:\n",
    "            tmpCol = np.copy(src[name])\n",
    "            tmpCol = np.reshape(tmpCol,(-1,1))\n",
    "            tmpArr = np.append(tmpArr,tmpCol,1)\n",
    "        cols = cols + 1\n",
    "    return np.append(dest,tmpArr,1)\n",
    "#end addColumns"
   ]
  },
  {
   "cell_type": "code",
   "execution_count": null,
   "metadata": {
    "collapsed": true
   },
   "outputs": [],
   "source": [
    "# Generate Random Forest model\n",
    "def genModel(data,colList,modelName):\n",
    "    # Prepare the data for the model\n",
    "    X = np.zeros(data.shape[0])\n",
    "    X = np.reshape(X,(-1,1))\n",
    "    X = addColumns(X,data,colList)\n",
    "    if debugFlag:\n",
    "        print(\"X 0: \", X[0:5])\n",
    "    Y = np.copy(data[\"Status\"])\n",
    "    if debugFlag:\n",
    "        print(\"Y 0: \", Y[0:5])\n",
    "\n",
    "    # Build the model based on training data\n",
    "    model = ensemble.RandomForestClassifier(oob_score=True)\n",
    "    if numEstimators > 0 :\n",
    "        model.set_params(n_estimators=numEstimators)\n",
    "    if maxDepth > 0 :\n",
    "        model.set_params(max_depth=maxDepth)\n",
    "    print(model.fit(X, Y))\n",
    "\n",
    "    print(\"MODEL: \", model)\n",
    "    print(\"N_FEATURES: \", model.n_features_)\n",
    "    print(\"MAX_DEPTH: \", model.max_depth)\n",
    "    print(\"NAMES: \", data.dtype.names)\n",
    "    print(\"FEATURE_IMPORTANCES: \", model.feature_importances_)\n",
    "    print(\"N_ESTIMATORS: \", model.n_estimators)\n",
    "    print(\"OOB_DECISION_FUNCTION: \", model.oob_decision_function_)\n",
    "    print(\"OOB_SCORE: \", model.oob_score_)\n",
    "\n",
    "    P = model.predict(X)\n",
    "    print(\"SCORE values: \", model.score(X,Y))\n",
    "    if debugFlag:\n",
    "        print(\"P 0-5: \", P[0:5])\n",
    "\n",
    "    # Write the model to the file\n",
    "    modelFileName = modelName+\".model\"\n",
    "    joblib.dump(model,modelFileName)\n",
    "    return P\n",
    "#end genModel"
   ]
  },
  {
   "cell_type": "code",
   "execution_count": null,
   "metadata": {
    "collapsed": true
   },
   "outputs": [],
   "source": [
    "-"
   ]
  },
  {
   "cell_type": "code",
   "execution_count": null,
   "metadata": {
    "collapsed": false
   },
   "outputs": [],
   "source": [
    "# Start\n",
    "inputFileName = \"PerfRun_TrainingData.csv\"\n",
    "outputFileName = \"PerfRun_TrainingRandomForest.txt\"\n",
    "modelName = \"PerfRandomForest\"\n",
    "\n",
    "# All input columns - data types are strings, float and int\n",
    "trainData = np.genfromtxt(\n",
    "    inputFileName,\n",
    "    delimiter=',',\n",
    "    names=True,\n",
    "    dtype=(\"|U20\",int,int,int,int,int,int,int,int)\n",
    ")\n",
    "if debugFlag:\n",
    "    print(\"trainData 0: \", trainData[0:5])\n",
    "\n",
    "P = genModel(trainData,perfCols,modelName)\n",
    "writeResult(outputFileName,trainData,P)"
   ]
  },
  {
   "cell_type": "code",
   "execution_count": null,
   "metadata": {
    "collapsed": true
   },
   "outputs": [],
   "source": []
  }
 ],
 "metadata": {
  "kernelspec": {
   "display_name": "Python 3",
   "language": "python",
   "name": "python3"
  },
  "language_info": {
   "codemirror_mode": {
    "name": "ipython",
    "version": 3
   },
   "file_extension": ".py",
   "mimetype": "text/x-python",
   "name": "python",
   "nbconvert_exporter": "python",
   "pygments_lexer": "ipython3",
   "version": "3.6.0"
  }
 },
 "nbformat": 4,
 "nbformat_minor": 2
}
