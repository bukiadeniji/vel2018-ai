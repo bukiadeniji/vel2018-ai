{
 "cells": [
  {
   "cell_type": "code",
   "execution_count": null,
   "metadata": {
    "collapsed": true
   },
   "outputs": [],
   "source": [
    "#######################################################\n",
    "# Script:\n",
    "#    getAnom.py\n",
    "# Usage:\n",
    "#    python getAnom.py <input_file> <output_file>\n",
    "# Description:\n",
    "#    Detect anomalies on test data\n",
    "# Authors:\n",
    "#    Jasmin Nakic, jnakic@salesforce.com\n",
    "#    Samir Pilipovic, spilipovic@salesforce.com\n",
    "#######################################################\n",
    "\n",
    "import sys\n",
    "from math import sqrt\n",
    "from math import floor\n",
    "import numpy as np\n",
    "\n",
    "# Script debugging flag\n",
    "debugFlag = False\n",
    "DIFFMIN = 70000\n",
    "DEVRANGE = 1.5"
   ]
  },
  {
   "cell_type": "code",
   "execution_count": null,
   "metadata": {
    "collapsed": true
   },
   "outputs": [],
   "source": [
    "# Function to validate rule\n",
    "def applyRule(V,P,D):\n",
    "    lowPred = P - floor(D*DEVRANGE)\n",
    "    highPred = P + floor(D*DEVRANGE)\n",
    "    diff = P - V\n",
    "    alert = \"\"\n",
    "    if (V < lowPred or highPred < V) and abs(diff) > DIFFMIN:\n",
    "        if P > V:\n",
    "            alert = \"HIGH\"\n",
    "        else:\n",
    "            alert = \"LOW\"\n",
    "    else:\n",
    "        diff = 0\n",
    "    return (alert,diff)\n",
    "#end applyRule"
   ]
  },
  {
   "cell_type": "code",
   "execution_count": null,
   "metadata": {
    "collapsed": true
   },
   "outputs": [],
   "source": [
    "# Iterate over test results\n",
    "def getAnom(data):\n",
    "    X = np.zeros(data.shape[0])\n",
    "    Y = np.zeros(data.shape[0])\n",
    "    row = 0\n",
    "    raiseAlert = False\n",
    "    for m in np.nditer(data):\n",
    "        cMA = m['cntMA']\n",
    "        pMA = m['predMA']\n",
    "        pDev = m['predDev']\n",
    "        (alert,diff) = applyRule(cMA,pMA,pDev)\n",
    "        tmpRatio = 0.0\n",
    "        if pDev > 0:\n",
    "            tmpRatio = abs(cMA-pMA)/pDev\n",
    "        if debugFlag:\n",
    "            print(\"DEBUG: \",m['timeStamp'],alert,cMA,pMA,pDev,cMA-pMA,tmpRatio,diff)\n",
    "        if alert != \"\":\n",
    "            Y[row] = diff\n",
    "            if alert == \"HIGH\":\n",
    "                X[row] = 1\n",
    "            else: # LOW\n",
    "                X[row] = -1\n",
    "            print(alert,\"alert at\", m['timeStamp'], \"Moving average difference\", diff, \"from prediction\", pMA)\n",
    "        row = row + 1\n",
    "    return (X,Y)\n",
    "#end getAnom"
   ]
  },
  {
   "cell_type": "code",
   "execution_count": null,
   "metadata": {
    "collapsed": true
   },
   "outputs": [],
   "source": [
    "# Write results to file\n",
    "def writeResult(output,calcData,A,D):\n",
    "    # generate result file\n",
    "    result = np.array(\n",
    "        np.empty(calcData.shape[0]),\n",
    "        dtype=[\n",
    "            (\"timeStamp\",\"|U19\"),\n",
    "            (\"dateFrac\",float),\n",
    "            (\"isHoliday\",int),\n",
    "            (\"isSunday\",int),\n",
    "            (\"cnt\",int),\n",
    "            (\"predSimple\",int),\n",
    "            (\"predTrig\",int),\n",
    "            (\"predHourDay\",int),\n",
    "            (\"predHourWeek\",int),\n",
    "            (\"predHS\",int),\n",
    "            (\"cntMA\",int),\n",
    "            (\"predMA\",int),\n",
    "            (\"devMA\",int),\n",
    "            (\"predDev\",int),\n",
    "            (\"alertVal\",int),\n",
    "            (\"diffMA\",int)\n",
    "        ]\n",
    "    )\n",
    "\n",
    "    result[\"timeStamp\"]    = calcData[\"timeStamp\"]\n",
    "    result[\"dateFrac\"]     = calcData[\"dateFrac\"]\n",
    "    result[\"isHoliday\"]    = calcData[\"isHoliday\"]\n",
    "    result[\"isSunday\"]     = calcData[\"isSunday\"]\n",
    "    result[\"cnt\"]          = calcData[\"cnt\"]\n",
    "    result[\"predSimple\"]   = calcData[\"predSimple\"]\n",
    "    result[\"predTrig\"]     = calcData[\"predTrig\"]\n",
    "    result[\"predHourDay\"]  = calcData[\"predHourDay\"]\n",
    "    result[\"predHourWeek\"] = calcData[\"predHourWeek\"]\n",
    "    result[\"predHS\"]       = calcData[\"predHS\"]\n",
    "    result[\"cntMA\"]        = calcData[\"cntMA\"]\n",
    "    result[\"predMA\"]       = calcData[\"predMA\"]\n",
    "    result[\"devMA\"]        = calcData[\"devMA\"]\n",
    "    result[\"predDev\"]      = calcData[\"predDev\"]\n",
    "    result[\"alertVal\"]     = A\n",
    "    result[\"diffMA\"]       = D\n",
    "\n",
    "    if debugFlag:\n",
    "        print(\"R 0-5: \", result[0:5])\n",
    "    hdr = \"timeStamp\\tdateFrac\\tisHoliday\\tisSunday\\tcnt\\tpredSimple\\tpredTrig\\tpredHourDay\\tpredHourWeek\\tpredHS\\tcntMA\\tpredMA\\tdevMA\\tpredDev\\talertVal\\tdiffMA\"\n",
    "    np.savetxt(output,result,fmt=\"%s\",delimiter=\"\\t\",header=hdr,comments=\"\")\n",
    "#end writeResult\n"
   ]
  },
  {
   "cell_type": "code",
   "execution_count": null,
   "metadata": {
    "collapsed": true
   },
   "outputs": [],
   "source": [
    "# Process alerts for input file\n",
    "def process(inputFile,outputFile):\n",
    "    # timeStamp dateFrac isHoliday isSunday cnt predSimple predTrig predHourDay predHourWeek predHS cntMA predMA devMA predDev\n",
    "    testData = np.genfromtxt(\n",
    "        inputFile,\n",
    "        delimiter='\\t',\n",
    "        names=True,\n",
    "        dtype=(\"|U19\",float,int,int,int,int,int,int,int,int,int,int,int,int)\n",
    "    )\n",
    "\n",
    "    (AV,DV) = getAnom(testData)\n",
    "    writeResult(outputFile,testData,AV,DV)\n",
    "#end process"
   ]
  },
  {
   "cell_type": "code",
   "execution_count": null,
   "metadata": {
    "collapsed": false
   },
   "outputs": [],
   "source": [
    "# Start\n",
    "inputFileName = \"train_anom.txt\"\n",
    "outputFileName = \"detect.train.out\"\n",
    "\n",
    "process(inputFileName,outputFileName)\n",
    "\n",
    "# Load results from file generated above using correct data types\n",
    "results = np.genfromtxt(\n",
    "    outputFileName,\n",
    "    dtype=(\"|U19\",float,int,int,int,int,int,int,int,int,int,int,int,int,int,int),\n",
    "    delimiter='\\t',\n",
    "    names=True\n",
    ")\n",
    "\n",
    "# Examine result data\n",
    "if debugFlag:\n",
    "    print(\"Shape:\", results.shape)\n",
    "    print(\"Columns:\", len(results.dtype.names))\n",
    "    print(results[1:5])"
   ]
  }
 ],
 "metadata": {
  "kernelspec": {
   "display_name": "Python 3",
   "language": "python",
   "name": "python3"
  },
  "language_info": {
   "codemirror_mode": {
    "name": "ipython",
    "version": 3
   },
   "file_extension": ".py",
   "mimetype": "text/x-python",
   "name": "python",
   "nbconvert_exporter": "python",
   "pygments_lexer": "ipython3",
   "version": "3.6.0"
  }
 },
 "nbformat": 4,
 "nbformat_minor": 2
}
